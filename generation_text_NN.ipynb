{
  "nbformat": 4,
  "nbformat_minor": 0,
  "metadata": {
    "colab": {
      "name": "generation_text_NN",
      "provenance": [],
      "authorship_tag": "ABX9TyOyXatRbWlDFH9YOZxtPtLv",
      "include_colab_link": true
    },
    "kernelspec": {
      "name": "python3",
      "display_name": "Python 3"
    },
    "accelerator": "GPU"
  },
  "cells": [
    {
      "cell_type": "markdown",
      "metadata": {
        "id": "view-in-github",
        "colab_type": "text"
      },
      "source": [
        "<a href=\"https://colab.research.google.com/github/Andrey-Mel/generation_txt/blob/main/generation_text_NN.ipynb\" target=\"_parent\"><img src=\"https://colab.research.google.com/assets/colab-badge.svg\" alt=\"Open In Colab\"/></a>"
      ]
    },
    {
      "cell_type": "code",
      "metadata": {
        "id": "53-6vLqoVXbw"
      },
      "source": [
        "  #ИМПОРТ БИБЛИОТЕК\n",
        "  import numpy  as np\n",
        "  import matplotlib.pyplot as plt\n",
        "  %matplotlib inline\n",
        "  \n",
        "  from tensorflow.keras.models import Model, load_model #из кераса подгружаем абстрактный класс базовой модель,метод загрузки предобученной модели\n",
        "  from tensorflow.keras.layers import Dense, Embedding, LSTM, Input #необходимиые слои из кераса\n",
        "  from tensorflow.keras.optimizers import Adadelta, RMSprop #из кераса оптимайзеры необходимые\n",
        "  from tensorflow.keras.preprocessing.sequence import pad_sequences #загружаем метод ограничения последовательности заданой длины\n",
        "  from tensorflow.keras.preprocessing.text import Tokenizer #Токенайзер для обработки текста\n",
        "  from tensorflow.keras import utils #загружаем утилиты кераса для one hot кодировки\n",
        "  from tensorflow.keras.utils import plot_model #удобный график для визуализации архитектуры сети\n",
        "\n",
        "  import yaml #импортируем модуль для удобной работы с файлами типа yaml\n",
        "\n"
      ],
      "execution_count": null,
      "outputs": []
    },
    {
      "cell_type": "code",
      "metadata": {
        "id": "EzmhGxQfcsG1",
        "colab": {
          "base_uri": "https://localhost:8080/"
        },
        "outputId": "9eb7ab36-86e0-4397-9963-e6db7c94f2ce"
      },
      "source": [
        "from google.colab import files\n",
        "from google.colab import drive\n",
        "drive.mount('/content/drive')"
      ],
      "execution_count": null,
      "outputs": [
        {
          "output_type": "stream",
          "text": [
            "Mounted at /content/drive\n"
          ],
          "name": "stdout"
        }
      ]
    },
    {
      "cell_type": "markdown",
      "metadata": {
        "id": "__-8JvmRdLVz"
      },
      "source": [
        "**Парсинг данных**\n"
      ]
    },
    {
      "cell_type": "code",
      "metadata": {
        "id": "X3fSRT7zdJpm",
        "colab": {
          "base_uri": "https://localhost:8080/"
        },
        "outputId": "699e1658-bea2-4864-f2dd-dab3151ac58b"
      },
      "source": [
        "#Открываем файл с диалогами\n",
        "\n",
        "corpus = open('/content/drive/My Drive/база диалоги/Диалоги(рассказы).yml', 'r')#открываем файл диалоги в режиме чтения 'r'\n",
        "document = yaml.safe_load(corpus)#загружаем файл в переменную documents\n",
        "conversations = document['разговоры'][:6500] #загружаем диалоги из файла в переменную conversations, УМЕНЬШИЛ РАЗМЕР БАЗЫ КОЛАБ НЕПРОПУСКАЛ НЕХВАТКА ПАМЯТИ\n",
        "print('Количество пар вопрос-ответ : {}'.format(len(conversations)))\n",
        "print('Пример диалога:  {}'.format(conversations[123]))\n",
        "\n"
      ],
      "execution_count": null,
      "outputs": [
        {
          "output_type": "stream",
          "text": [
            "Количество пар вопрос-ответ : 6500\n",
            "Пример диалога:  ['Перезалил?', 'Да вроде бы нет...']\n"
          ],
          "name": "stdout"
        }
      ]
    },
    {
      "cell_type": "code",
      "metadata": {
        "id": "AvfkllK26kYZ",
        "colab": {
          "base_uri": "https://localhost:8080/"
        },
        "outputId": "cb8504ca-0a9f-4637-8684-3f511bd4603d"
      },
      "source": [
        "#Разбираем вопросы-ответы с проставлениеем тегов ответам\n",
        "#Собираем ответы и вопросы в списки\n",
        "questions = list() #список вопросов\n",
        "answers = list()\n",
        "#answers = [] #список ответов\n",
        "\n",
        "#Если в ответе не одна фраза - то сцепляем сколько есть\n",
        "for con in conversations:\n",
        "  if len(con)>2: #если ответ содержит больше 2 предложений\n",
        "    questions.append(con[0]) #вопросительную часть заносим в список вопросов\n",
        "    replies = con[1:] #а последующую оставляем из остальных предложений\n",
        "    ans = '' #здесь соберем ответы\n",
        "    for rep in replies:\n",
        "      ans += ' ' + rep\n",
        "    answers.append(ans) #добавим в список ответов\n",
        "  elif len(con)>1:#если на вопрос приходится 1 ответ\n",
        "    questions.append(con[0]) #вопрос отправляем в список ответов\n",
        "    answers.append(con[1]) #ответ в список ответов\n",
        "\n",
        "\n",
        "#Очищаем строки с неопределенным типом ответов\n",
        "answersCleaned = list()\n",
        "for i in range(len(answers)):\n",
        "  if type(answers[i]) == str:\n",
        "    answersCleaned.append(answers[i]) #если тип строка, то добавляем в ответы\n",
        "  else:\n",
        "    questions.pop(i) #если тип не строка, то удаляем из списка вопросов и сам вопрос, чтоб соответствовать размеру\n",
        "\n",
        "#Сделаем теги-метки для начала и конца ответов\n",
        "answers = []\n",
        "for i in range(len(answersCleaned)):\n",
        "  answers.append('<START>' + answersCleaned[i] + '<END>')\n",
        "\n",
        "#Выведем обновленные данные на экран\n",
        "print('Вопрос: {}'.format(questions[34]))\n",
        "print('Ответ: {}'.format(answers[55]))\n"
      ],
      "execution_count": null,
      "outputs": [
        {
          "output_type": "stream",
          "text": [
            "Вопрос: Вызывали меня?\n",
            "Ответ: <START>Нет.<END>\n"
          ],
          "name": "stdout"
        }
      ]
    },
    {
      "cell_type": "code",
      "metadata": {
        "id": "em9zbc4ADlMA",
        "colab": {
          "base_uri": "https://localhost:8080/"
        },
        "outputId": "12d16bd6-2719-4abd-e140-6fcae201f506"
      },
      "source": [
        "#Подключаем керасовский токенайзер и собираем словарь индексов\n",
        "#filters='()*+_-/<=>@[\\\\]^~{|}`\\t\\n'\n",
        "tokenizer = Tokenizer(filters='()*+_-/<=>@[\\\\]^~{|}`\\t\\n')\n",
        "tokenizer.fit_on_texts(questions + answers)#обучаем токенайзер вопрос-ответ\n",
        "vocabularyItems = list(tokenizer.word_index.items()) #список с содержимым словаря\n",
        "vocabularySize = len(vocabularyItems) + 1\n",
        "print('Фрагмент словаря: {}' .format(vocabularyItems[:45]))\n",
        "print('Размер словаря: {}' .format(vocabularySize))\n",
        "\n"
      ],
      "execution_count": null,
      "outputs": [
        {
          "output_type": "stream",
          "text": [
            "Фрагмент словаря: [('start', 1), ('end', 2), ('не', 3), ('а', 4), ('что', 5), ('ты', 6), ('я', 7), ('в', 8), ('это', 9), ('и', 10), ('как', 11), ('вы', 12), ('на', 13), ('с', 14), ('у', 15), ('же', 16), ('где', 17), ('кто', 18), ('он', 19), ('ну', 20), ('так', 21), ('нет.', 22), ('ну,', 23), ('да', 24), ('нет,', 25), ('мы', 26), ('за', 27), ('все', 28), ('мне', 29), ('то', 30), ('что?', 31), ('тебя', 32), ('да,', 33), ('вот', 34), ('да.', 35), ('куда', 36), ('почему', 37), ('меня', 38), ('еще', 39), ('к', 40), ('товарищ', 41), ('что,', 42), ('его', 43), ('тебе', 44), ('там', 45)]\n",
            "Размер словаря: 14387\n"
          ],
          "name": "stdout"
        }
      ]
    },
    {
      "cell_type": "markdown",
      "metadata": {
        "id": "JYeVO45QF3n-"
      },
      "source": [
        "**Подготовка выборки**"
      ]
    },
    {
      "cell_type": "code",
      "metadata": {
        "id": "2QF70Pi0F1oz",
        "colab": {
          "base_uri": "https://localhost:8080/"
        },
        "outputId": "3e847b3e-02b4-4211-bb0d-d8ead89d39f6"
      },
      "source": [
        "#Устанавливаем закодированные данные входные - вопросы\n",
        "\n",
        "tokenizedQuestions = tokenizer.texts_to_sequences(questions)#разбиваем текст вопросов на последовательность индексов\n",
        "maxLenQuestions = max([len(x) for x in tokenizedQuestions]) #длина самого длинного вопроса\n",
        "\n",
        "#Делаем последовательности одной длины, заполняя нулями более короткие вопросы  PAD-SEQUENCES\n",
        "paddedQuestions = pad_sequences(tokenizedQuestions, maxlen=maxLenQuestions, padding='post')\n",
        "\n",
        "#Преподготавливаем данные для входа в сеть\n",
        "encoderForInput = np.array(paddedQuestions) #переводим в numpy массив\n",
        "print('Пример оригинального вопроса на вход: {}'.format(questions[100]))\n",
        "print('Пример кодированного вопроса на вход: {}'.format(encoderForInput[100]))\n",
        "print('Размеры закодированного массива вопросов на вход: {}'.format(encoderForInput.shape))\n",
        "print('Установленная длина вопросов на вход: {}'.format(maxLenQuestions))\n"
      ],
      "execution_count": null,
      "outputs": [
        {
          "output_type": "stream",
          "text": [
            "Пример оригинального вопроса на вход: Какая же мораль?\n",
            "Пример кодированного вопроса на вход: [ 157   16 3916    0    0    0    0    0    0    0    0]\n",
            "Размеры закодированного массива вопросов на вход: (6497, 11)\n",
            "Установленная длина вопросов на вход: 11\n"
          ],
          "name": "stdout"
        }
      ]
    },
    {
      "cell_type": "code",
      "metadata": {
        "id": "YHTAxOkkOTq6",
        "colab": {
          "base_uri": "https://localhost:8080/"
        },
        "outputId": "0a885a3d-4281-4953-e76a-a11364334f3b"
      },
      "source": [
        "#Устанавливаем раскодированные входные данные = ответы\n",
        "\n",
        "tokenizedAnswers = tokenizer.texts_to_sequences(answers) #разбиваем текст ответов на последовательность индексов\n",
        "maxLenAnswers = max([len(x) for x in tokenizedAnswers])#длина самого большого ответа\n",
        "\n",
        "#Делаем последовательность одной длины, заполняя нулями более короткие вопросы\n",
        "paddedAnswers = pad_sequences(tokenizedAnswers, maxlen=maxLenAnswers, padding='post')\n",
        "\n",
        "#Преподготавливаем данные на вход в сеть\n",
        "decoderForInput = np.array(paddedAnswers)#переводим в numpy массив\n",
        "print('Пример оригинального ответа на вход: {}'.format(questions[100]))\n",
        "print('Пример кодированного ответа на вход: {}'.format(decoderForInput[100]))\n",
        "print('Размеры закодированного массива ответов: {}'.format(decoderForInput.shape))\n",
        "print('Установленная длина ответов на вход: {}'.format(maxLenAnswers))\n",
        "\n"
      ],
      "execution_count": null,
      "outputs": [
        {
          "output_type": "stream",
          "text": [
            "Пример оригинального ответа на вход: Какая же мораль?\n",
            "Пример кодированного ответа на вход: [   1 9243   21  115 9244    2    0    0    0    0    0    0    0]\n",
            "Размеры закодированного массива ответов: (6497, 13)\n",
            "Установленная длина ответов на вход: 13\n"
          ],
          "name": "stdout"
        }
      ]
    },
    {
      "cell_type": "code",
      "metadata": {
        "id": "GAJEGugiSByy"
      },
      "source": [
        "#Раскодированные выходные данные - ответы\n",
        "tokenizedAnswers = tokenizer.texts_to_sequences(answers) #разбиваем текст ответов на индексы \n",
        "for i in range(len(tokenizedAnswers)): #для разбитых на последовательности ответов\n",
        "  tokenizedAnswers[i] = tokenizedAnswers[i][1:]#избавляемся от тега <START>\n",
        "\n",
        "#Делаем последовательности одной длины, заполняя нулями более короткие ответы\n",
        "paddedAnswers = pad_sequences(tokenizedAnswers, maxlen=maxLenAnswers, padding='post')\n",
        "\n",
        "oneHotAnswers = utils.to_categorical(paddedAnswers, vocabularySize)#переводим выходные ответы в формат OHE\n",
        "decoderForOutput = np.array(oneHotAnswers)# и сохраняем в виде массиваnumpy\n"
      ],
      "execution_count": null,
      "outputs": []
    },
    {
      "cell_type": "code",
      "metadata": {
        "id": "oqAFjoI65S2h",
        "colab": {
          "base_uri": "https://localhost:8080/"
        },
        "outputId": "cbad1149-cc40-441d-9cc3-7346c48c4feb"
      },
      "source": [
        "print('Пример раскодированного ответа на вход: {}'.format(decoderForInput[100][:21]))\n",
        "print('Пример раскодированного ответа на выход: {}'.format(decoderForOutput[100][4][:21]))\n",
        "print('Пример раскодированного массива ответов на выход: {}'.format(decoderForOutput.shape))\n",
        "print('Установленная длина ответов на выход: {}'.format(maxLenAnswers))"
      ],
      "execution_count": null,
      "outputs": [
        {
          "output_type": "stream",
          "text": [
            "Пример раскодированного ответа на вход: [   1 9243   21  115 9244    2    0    0    0    0    0    0    0]\n",
            "Пример раскодированного ответа на выход: [0. 0. 1. 0. 0. 0. 0. 0. 0. 0. 0. 0. 0. 0. 0. 0. 0. 0. 0. 0. 0.]\n",
            "Пример раскодированного массива ответов на выход: (6497, 13, 14387)\n",
            "Установленная длина ответов на выход: 13\n"
          ],
          "name": "stdout"
        }
      ]
    },
    {
      "cell_type": "markdown",
      "metadata": {
        "id": "ncSOJ0kLpDJ4"
      },
      "source": [
        "**Параметры нейросети и модель обучения**"
      ]
    },
    {
      "cell_type": "code",
      "metadata": {
        "id": "rIXOODbppCYn"
      },
      "source": [
        "#Первый входной слой, энкодер, выходной слой\n",
        "\n",
        "encoderInputs = Input(shape=(None, ))#размеры на входе сетки(здесь будет encoderForInput)\n",
        "#Эти данные проходят через слой Embedding (длина словаря, размерность)\n",
        "encoderEmbedding = Embedding(vocabularySize, 50, mask_zero=True)(encoderInputs)\n",
        "#Затем выход с Embedding пойдет на LSTM слой и на выходе будут два вектора state-h, state-c\n",
        "encoderOutputs, state_h,state_c = LSTM(100, return_state=True)(encoderEmbedding)#векторы state_h и state_c - LSTM возвращает из-за return_state=True\n",
        "encoderStates = [state_h, state_c]# это будут данные для входа декодер помимо сгенерированного слова ответа"
      ],
      "execution_count": null,
      "outputs": []
    },
    {
      "cell_type": "code",
      "metadata": {
        "id": "mKc0kNz_8v60"
      },
      "source": [
        "#Второй входной слой, декодер, выходной слой\n",
        "\n",
        "decoderInputs = Input(shape=(None, ))#размеры на входе сетки(здесь будет encoderForOutput)\n",
        "#Эти данные проходят через слой Embedding (длина словаря, размерность)\n",
        "#mask_zero=True - игнорировать нулевые padding при передаче в LSTM. Предотвратит вывод ответа типа: \"У меня все хорошо PAD PAD PAD\"\n",
        "decoderEmbedding = Embedding(vocabularySize, 50, mask_zero=True)(decoderInputs)\n",
        "#Затем выход с Embedding пойдет в LSTM слой которому передаются вектора состояни - state_h, state_c\n",
        "decoderLSTM = LSTM(100, return_state=True, return_sequences=True)#return_sequences - возвращает еще один вектор данных дублирующий state_c - именно на нем мы будем смотреть сгенерированные слова ответа\n",
        "decoderOutputs,_,_ = decoderLSTM(decoderEmbedding, initial_state = encoderStates)#initial_state - именнно сюда на вход LSTM подаем два вектора состояния из энкодера encoderState\n",
        "decoderDense = Dense(vocabularySize, activation='softmax')\n",
        "output = decoderDense(decoderOutputs)"
      ],
      "execution_count": null,
      "outputs": []
    },
    {
      "cell_type": "code",
      "metadata": {
        "id": "2Foz0zoTACaL",
        "colab": {
          "base_uri": "https://localhost:8080/",
          "height": 910
        },
        "outputId": "3bf2ebc4-1b8f-4564-b76b-3d26f9a7d1f2"
      },
      "source": [
        "#Тренировочная модель\n",
        "model = Model([encoderInputs, decoderInputs],output)\n",
        "model.compile(optimizer=RMSprop(),loss='categorical_crossentropy')\n",
        "\n",
        "print(model.summary())\n",
        "plot_model(model, to_file='model.png')"
      ],
      "execution_count": null,
      "outputs": [
        {
          "output_type": "stream",
          "text": [
            "Model: \"functional_1\"\n",
            "__________________________________________________________________________________________________\n",
            "Layer (type)                    Output Shape         Param #     Connected to                     \n",
            "==================================================================================================\n",
            "input_1 (InputLayer)            [(None, None)]       0                                            \n",
            "__________________________________________________________________________________________________\n",
            "input_2 (InputLayer)            [(None, None)]       0                                            \n",
            "__________________________________________________________________________________________________\n",
            "embedding (Embedding)           (None, None, 50)     719350      input_1[0][0]                    \n",
            "__________________________________________________________________________________________________\n",
            "embedding_1 (Embedding)         (None, None, 50)     719350      input_2[0][0]                    \n",
            "__________________________________________________________________________________________________\n",
            "lstm (LSTM)                     [(None, 100), (None, 60400       embedding[0][0]                  \n",
            "__________________________________________________________________________________________________\n",
            "lstm_1 (LSTM)                   [(None, None, 100),  60400       embedding_1[0][0]                \n",
            "                                                                 lstm[0][1]                       \n",
            "                                                                 lstm[0][2]                       \n",
            "__________________________________________________________________________________________________\n",
            "dense (Dense)                   (None, None, 14387)  1453087     lstm_1[0][0]                     \n",
            "==================================================================================================\n",
            "Total params: 3,012,587\n",
            "Trainable params: 3,012,587\n",
            "Non-trainable params: 0\n",
            "__________________________________________________________________________________________________\n",
            "None\n"
          ],
          "name": "stdout"
        },
        {
          "output_type": "execute_result",
          "data": {
            "image/png": "[encoded data removed]",
            "text/plain": [
              "<IPython.core.display.Image object>"
            ]
          },
          "metadata": {
            "tags": []
          },
          "execution_count": 12
        }
      ]
    },
    {
      "cell_type": "code",
      "metadata": {
        "id": "aAsP7ZcyBqYc",
        "colab": {
          "base_uri": "https://localhost:8080/",
          "height": 975
        },
        "outputId": "98a8d5d1-4108-42c3-859d-9be8cd844a54"
      },
      "source": [
        "#обучение и сохраним модель\n",
        "history = model.fit([encoderForInput , decoderForInput], decoderForOutput, batch_size=35, epochs=20) \n",
        "#model.save( '/content/drive/My Drive/база диалоги/model_30epochs(rms).h5' )\n",
        "plt.plot(history.history['loss'], label = 'Ошибка')\n",
        "plt.show()"
      ],
      "execution_count": null,
      "outputs": [
        {
          "output_type": "stream",
          "text": [
            "Epoch 1/20\n",
            "186/186 [==============================] - 11s 61ms/step - loss: 1.1116\n",
            "Epoch 2/20\n",
            "186/186 [==============================] - 11s 61ms/step - loss: 1.1121\n",
            "Epoch 3/20\n",
            "186/186 [==============================] - 11s 60ms/step - loss: 1.1120\n",
            "Epoch 4/20\n",
            "186/186 [==============================] - 11s 60ms/step - loss: 1.1115\n",
            "Epoch 5/20\n",
            "186/186 [==============================] - 11s 60ms/step - loss: 1.1111\n",
            "Epoch 6/20\n",
            "186/186 [==============================] - 11s 60ms/step - loss: 1.1109\n",
            "Epoch 7/20\n",
            "186/186 [==============================] - 11s 60ms/step - loss: 1.1114\n",
            "Epoch 8/20\n",
            "186/186 [==============================] - 11s 60ms/step - loss: 1.1110\n",
            "Epoch 9/20\n",
            "186/186 [==============================] - 11s 59ms/step - loss: 1.1108\n",
            "Epoch 10/20\n",
            "186/186 [==============================] - 11s 60ms/step - loss: 1.1108\n",
            "Epoch 11/20\n",
            "186/186 [==============================] - 11s 60ms/step - loss: 1.1112\n",
            "Epoch 12/20\n",
            "186/186 [==============================] - 11s 60ms/step - loss: 1.1109\n",
            "Epoch 13/20\n",
            "186/186 [==============================] - 11s 60ms/step - loss: 1.1114\n",
            "Epoch 14/20\n",
            "186/186 [==============================] - 11s 60ms/step - loss: 1.1112\n",
            "Epoch 15/20\n",
            "186/186 [==============================] - 11s 60ms/step - loss: 1.1113\n",
            "Epoch 16/20\n",
            "186/186 [==============================] - 11s 60ms/step - loss: 1.1106\n",
            "Epoch 17/20\n",
            "186/186 [==============================] - 11s 59ms/step - loss: 1.1101\n",
            "Epoch 18/20\n",
            "186/186 [==============================] - 11s 60ms/step - loss: 1.1105\n",
            "Epoch 19/20\n",
            "186/186 [==============================] - 11s 61ms/step - loss: 1.1105\n",
            "Epoch 20/20\n",
            "186/186 [==============================] - 11s 61ms/step - loss: 1.1106\n"
          ],
          "name": "stdout"
        },
        {
          "output_type": "display_data",
          "data": {
            "image/png": "[encoded data removed]",
            "text/plain": [
              "<Figure size 432x288 with 1 Axes>"
            ]
          },
          "metadata": {
            "tags": [],
            "needs_background": "light"
          }
        }
      ]
    },
    {
      "cell_type": "code",
      "metadata": {
        "id": "wzPmXcRT-wXu"
      },
      "source": [
        "model.save( '/content/drive/My Drive/база диалоги/model_230epochs(rms).h5' )"
      ],
      "execution_count": null,
      "outputs": []
    },
    {
      "cell_type": "code",
      "metadata": {
        "id": "irTi3z0rFV1A"
      },
      "source": [
        "# Создаем рабочую модель для вывода ответов на запросы пользователя\n",
        "def makeInferenceModels():\n",
        "  #Определим модель кодера, на входе далее будут закодированные вопросы(encoderforInput), на выходе состояния state_h, state_c\n",
        "  encoderModel = Model(encoderInputs, encoderStates)\n",
        "  decoderStateInput_h = Input(shape=(100 ,)) #  размерность для входного слоя с состоянием state_h\n",
        "  decoderStateInput_c = Input(shape=(100 ,)) #  размерность для входного слоя с состоянием state_c\n",
        "\n",
        "  decoderStatesInputs = [decoderStateInput_h, decoderStateInput_c] # возьмем оба inputs вместе \n",
        "\n",
        "  # Берём ответы, прошедшие через эмбединг, вместе с состояниями и подаём в LSTM \n",
        "  decoderOutputs, state_h, state_c = decoderLSTM(decoderEmbedding, initial_state=decoderStatesInputs)\n",
        "  decoderStates = [state_h, state_c] # LSTM даст нам новые состояния\n",
        "  decoderOutputs = decoderDense(decoderOutputs) # и ответы, которые мы пропустим через полносвязный слой с софтмаксом\n",
        "\n",
        "  # Определим модель декодера, на входе далее будут раскодированные ответы (decoderForInputs) и состояния\n",
        "  # на выходе предсказываемый ответ и новые состояния\n",
        "  decoderModel = Model([decoderInputs] + decoderStatesInputs, [decoderOutputs] + decoderStates)\n",
        "\n",
        "  return encoderModel , decoderModel"
      ],
      "execution_count": null,
      "outputs": []
    },
    {
      "cell_type": "code",
      "metadata": {
        "id": "ZIl_lcNdID_F"
      },
      "source": [
        "#Функция которая преобразует текст вопроса в последовательность индексов для понимания сети\n",
        "def strToTokens(sentence: str):#предложение вопроса\n",
        "  words = sentence.lower().split()\n",
        "  tokenlist = list()\n",
        "  try:  \n",
        "    for word in words:\n",
        "      tokenlist.append(tokenizer.word_index[word])#определяем токенайзером индекс слова\n",
        "  except:\n",
        "    print('Я незнаю такого слова, спросите что-нибудь другое!')\n",
        "    \n",
        "    \n",
        "  return pad_sequences([tokenlist], maxlen=maxLenQuestions, padding='post')"
      ],
      "execution_count": null,
      "outputs": []
    },
    {
      "cell_type": "code",
      "metadata": {
        "id": "p76IFPmlJTvV",
        "colab": {
          "base_uri": "https://localhost:8080/"
        },
        "outputId": "057aae86-88be-47f3-dd17-5aec55400c95"
      },
      "source": [
        "#Устанавливаем окончательные настройки и запускаем модель\n",
        "\n",
        "encModel, decModel = makeInferenceModels()\n",
        "\n",
        "for _ in range(6):#задаеь количество вопросов\n",
        "  stateValues = encModel.predict(strToTokens(input( 'Задайте вопрос : ' )))\n",
        "  #Создаем пустой массив размером (1,1)\n",
        "  emptyTargetSeq = np.zeros((1,1))\n",
        "  emptyTargetSeq[0,0] = tokenizer.word_index['start']# положим в пустую последовательность начальное слово 'start' в виде индекса\n",
        "  stopCondition = False#условие при котором прекратится генерайция слова\n",
        "  decodedTranslation = '' # здесь будет собираться генерируемый ответ\n",
        "  while not stopCondition :\n",
        "    # В модель декодера подадим пустую последовательность со словом 'start' и состояния предсказанные кодером по заданному вопросу.\n",
        "    # декодер заменит слово 'start' предсказанным сгенерированным словом и обновит состояния\n",
        "    decOutputs , h , c = decModel.predict([emptyTargetSeq] + stateValues)\n",
        "    #argmax пробежит по вектору decOutputs'а[0,0], найдет макс.значение, и вернёт нам номер индекса под которым оно лежит в массиве\n",
        "    sampledWordIndex = np.argmax( decOutputs[0, 0, :]) # argmax возьмем от оси, в которой 15104 элементов. Получили индекс предсказанного слова.\n",
        "    sampledWord = None # создаем переменную, в которую положим слово, преобразованное на естественный язык\n",
        "    for word , index in tokenizer.word_index.items():\n",
        "      if sampledWordIndex == index: # если индекс выбранного слова соответствует какому-то индексу из словаря\n",
        "        decodedTranslation += ' {}'.format(word) # слово, идущее под этим индексом в словаре, добавляется в итоговый ответ \n",
        "        sampledWord = word # выбранное слово фиксируем в переменную sampledWord\n",
        "      \n",
        "\n",
        "        # Если выбранным словом оказывается 'end' либо если сгенерированный ответ превышает заданную максимальную длину ответа\n",
        "    if sampledWord == 'end' or len(decodedTranslation.split()) > maxLenAnswers:\n",
        "      stopCondition = True # то срабатывает стоп-условие и прекращаем генерацию\n",
        "\n",
        "    emptyTargetSeq = np.zeros((1, 1)) # создаем пустой массив\n",
        "    emptyTargetSeq[0, 0] = sampledWordIndex # заносим туда индекс выбранного слова\n",
        "    statesValues = [h, c] # и состояния, обновленные декодером\n",
        "    # и продолжаем цикл с обновленными параметрами\n",
        "  \n",
        "  print(decodedTranslation[:-3]) # выводим ответ сгенерированный декодером"
      ],
      "execution_count": null,
      "outputs": [
        {
          "output_type": "stream",
          "text": [
            "Задайте вопрос : Как дела?\n",
            " за мной. \n",
            "Задайте вопрос : Сколько времени сейчас?\n",
            " а да! \n",
            "Задайте вопрос : Когда будешь в кино?\n",
            " так не так не так не так не так не так не так\n",
            "Задайте вопрос : Ты откуда\n",
            " из с нибудь не из с нибудь не из с нибудь не и\n",
            "Задайте вопрос : Сколько тебе лет\n",
            " а ты а ты а ты а ты а ты а ты а\n",
            "Задайте вопрос : Какая сейчас, у тебя погода?\n",
            "Я незнаю такого слова, спросите что-нибудь другое!\n",
            " ты сам ты сам ты сам ты сам ты сам ты сам ты \n"
          ],
          "name": "stdout"
        }
      ]
    }
  ]
}